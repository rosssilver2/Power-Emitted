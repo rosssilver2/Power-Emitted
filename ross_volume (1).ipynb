{
 "cells": [
  {
   "cell_type": "markdown",
   "metadata": {},
   "source": [
    "Demonstrate emitted power distributions (Eq. 4.99 in your text, pg. 142) for arbitrary acceleration. Our textbook is Radiative Processes in Astrophysics by Rybicki and Lightman."
   ]
  },
  {
   "cell_type": "markdown",
   "metadata": {},
   "source": [
    "First, import the necessary packages\n"
   ]
  },
  {
   "cell_type": "code",
   "execution_count": 1,
   "metadata": {},
   "outputs": [],
   "source": [
    "import ipyvolume as ipv\n",
    "import numpy as np"
   ]
  },
  {
   "cell_type": "markdown",
   "metadata": {},
   "source": [
    "Define routine to calculate angular distribution.  Ross should type in latex here."
   ]
  },
  {
   "cell_type": "code",
   "execution_count": 2,
   "metadata": {},
   "outputs": [],
   "source": [
    "def rfactor(theta, phi, beta, alpha):\n",
    "    gamma = 1. / np.sqrt(1. - np.power(beta,2))\n",
    "    alpha_p = np.arctan((1/gamma)*np.tan(alpha))\n",
    "    phi_p = phi\n",
    "    theta_p = np.arccos((np.cos(theta) - beta) / (1 - beta*np.cos(theta)))\n",
    "    cos_Theta_p = np.cos(alpha_p)*np.cos(theta_p) + np.sin(alpha_p)*np.sin(theta_p)*np.cos(phi_p)\n",
    "    return ((gamma**2 * np.power(np.cos(alpha),2)) + np.power(np.sin(alpha),2)) * ((1- np.power(cos_Theta_p, 2)) / (np.power(1 - beta*np.cos(theta),3)))"
   ]
  },
  {
   "cell_type": "markdown",
   "metadata": {},
   "source": [
    "Set size of arrays.  More points gives finer grid."
   ]
  },
  {
   "cell_type": "code",
   "execution_count": 3,
   "metadata": {},
   "outputs": [],
   "source": [
    "N = 100"
   ]
  },
  {
   "cell_type": "markdown",
   "metadata": {},
   "source": [
    "Define angles."
   ]
  },
  {
   "cell_type": "code",
   "execution_count": 4,
   "metadata": {},
   "outputs": [],
   "source": [
    "phi = np.linspace(0, 2 * np.pi, N)\n",
    "theta = np.linspace(0, np.pi, N)"
   ]
  },
  {
   "cell_type": "markdown",
   "metadata": {},
   "source": [
    "Velocity is in the z direction.  Acceleration is in the x-z plane at angle $\\alpha$ with respect to the velocity."
   ]
  },
  {
   "cell_type": "code",
   "execution_count": 5,
   "metadata": {},
   "outputs": [],
   "source": [
    "alpha = np.pi/2."
   ]
  },
  {
   "cell_type": "markdown",
   "metadata": {},
   "source": [
    "Set the velocity $\\beta = v/c$."
   ]
  },
  {
   "cell_type": "code",
   "execution_count": 6,
   "metadata": {},
   "outputs": [],
   "source": [
    "beta = 0.1"
   ]
  },
  {
   "cell_type": "markdown",
   "metadata": {},
   "source": [
    "Create the data."
   ]
  },
  {
   "cell_type": "code",
   "execution_count": 7,
   "metadata": {},
   "outputs": [],
   "source": [
    "x = np.zeros([N,N])\n",
    "y = np.zeros([N,N])\n",
    "z = np.zeros([N,N])\n",
    "\n",
    "for i in range(N):\n",
    "    for j in range(N):\n",
    "        r = rfactor(theta[i], phi[j], beta, alpha)\n",
    "        x[i,j] = r * np.sin(theta[i]) * np.cos(phi[j])\n",
    "        y[i,j] = r * np.sin(theta[i]) * np.sin(phi[j])\n",
    "        z[i,j] = r * np.cos(theta[i])"
   ]
  },
  {
   "cell_type": "markdown",
   "metadata": {},
   "source": [
    "Plot."
   ]
  },
  {
   "cell_type": "code",
   "execution_count": 8,
   "metadata": {},
   "outputs": [
    {
     "data": {
      "application/vnd.jupyter.widget-view+json": {
       "model_id": "c710d9b686244d73983eeef44b8b34f9",
       "version_major": 2,
       "version_minor": 0
      },
      "text/plain": [
       "TWVzaChjb2xvcj1hcnJheSgnb3JhbmdlJywgZHR5cGU9J3xTNicpLCBsaW5lX21hdGVyaWFsPVNoYWRlck1hdGVyaWFsKCksIG1hdGVyaWFsPVNoYWRlck1hdGVyaWFsKHNpZGU9J0RvdWJsZVPigKY=\n"
      ]
     },
     "metadata": {},
     "output_type": "display_data"
    }
   ],
   "source": [
    "ipv.figure()\n",
    "\n",
    "ipv.plot_surface(x, y, z, color=\"orange\")"
   ]
  },
  {
   "cell_type": "markdown",
   "metadata": {},
   "source": [
    "Set the axis limits."
   ]
  },
  {
   "cell_type": "code",
   "execution_count": 9,
   "metadata": {},
   "outputs": [],
   "source": [
    "vmax = np.max([np.max(x), np.max(y), np.max(z)])\n",
    "ipv.xyzlim(-vmax,vmax)"
   ]
  },
  {
   "cell_type": "markdown",
   "metadata": {},
   "source": [
    "Show the graph."
   ]
  },
  {
   "cell_type": "code",
   "execution_count": 10,
   "metadata": {},
   "outputs": [
    {
     "data": {
      "application/vnd.jupyter.widget-view+json": {
       "model_id": "b239aef46eb84f34a54bd30748e84136",
       "version_major": 2,
       "version_minor": 0
      },
      "text/plain": [
       "VkJveChjaGlsZHJlbj0oRmlndXJlKGNhbWVyYT1QZXJzcGVjdGl2ZUNhbWVyYShmb3Y9NDYuMCwgcG9zaXRpb249KDAuMCwgMC4wLCAyLjApLCBxdWF0ZXJuaW9uPSgwLjAsIDAuMCwgMC4wLCDigKY=\n"
      ]
     },
     "metadata": {},
     "output_type": "display_data"
    }
   ],
   "source": [
    "ipv.show()"
   ]
  }
 ],
 "metadata": {
  "kernelspec": {
   "display_name": "Python 2",
   "language": "python",
   "name": "python2"
  },
  "language_info": {
   "codemirror_mode": {
    "name": "ipython",
    "version": 2
   },
   "file_extension": ".py",
   "mimetype": "text/x-python",
   "name": "python",
   "nbconvert_exporter": "python",
   "pygments_lexer": "ipython2",
   "version": "2.7.15+"
  }
 },
 "nbformat": 4,
 "nbformat_minor": 2
}
